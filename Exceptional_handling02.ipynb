{
  "nbformat": 4,
  "nbformat_minor": 0,
  "metadata": {
    "colab": {
      "provenance": []
    },
    "kernelspec": {
      "name": "python3",
      "display_name": "Python 3"
    },
    "language_info": {
      "name": "python"
    }
  },
  "cells": [
    {
      "cell_type": "markdown",
      "source": [
        "#**\"Files, exceptional handling, logging and memory management\"**\n",
        "\n",
        "##**Practical Questions:**"
      ],
      "metadata": {
        "id": "Ix8xTH1A97B6"
      }
    },
    {
      "cell_type": "markdown",
      "source": [
        "#**Question 1: How can you open a file for writing in Python and write a string to it?**\n",
        "\n",
        "##**Opening a File for Writing in Python:**\n",
        "\n",
        "You can open a file for writing in Python using the `open()` function in write mode `('w')`. Here's an example:\n",
        "\n",
        "\n",
        "`with open('example.txt', 'w') as file:`     \n",
        "  `file.write('Hello, World!')`\n",
        "\n",
        "\n",
        "###**Explanation:**\n",
        "1. **`open()` function:** The `open()` function is used to open a file. It takes two arguments: the file path and the mode.\n",
        "2. **`'w'` mode:** The `'w'` mode is used to open the file for writing. If the file does not exist, it will be created. If the file already exists, its contents will be overwritten.\n",
        "3. **`with` statement:** The `with` statement is used to ensure that the file is properly closed after it is no longer needed.\n",
        "4. **`write()` method:** The `write()` method is used to write a string to the file.\n"
      ],
      "metadata": {
        "id": "VaejHx1X-U9Y"
      }
    },
    {
      "cell_type": "markdown",
      "source": [
        "#**Question 2: Write a Python program to read the contents of a file and print each line.**\n",
        "\n",
        "\n"
      ],
      "metadata": {
        "id": "fAs_n6ZO_3P1"
      }
    },
    {
      "cell_type": "code",
      "source": [
        "\n",
        "\n",
        "\n",
        "def print_file_lines(filename):\n",
        "    try:\n",
        "        with open(filename, 'r') as file:\n",
        "            for line in file:\n",
        "                print(line.strip())\n",
        "    except FileNotFoundError:\n",
        "        print(f\"File '{filename}' not found.\")\n",
        "\n",
        "# Example usage\n",
        "filename = 'example.txt'\n",
        "print_file_lines(filename)\n",
        "\n",
        "\n"
      ],
      "metadata": {
        "colab": {
          "base_uri": "https://localhost:8080/"
        },
        "id": "2cqZQFXHAAiZ",
        "outputId": "66ca1cb6-3020-4aad-a0c9-80453abf0591"
      },
      "execution_count": 3,
      "outputs": [
        {
          "output_type": "stream",
          "name": "stdout",
          "text": [
            "File 'example.txt' not found.\n"
          ]
        }
      ]
    },
    {
      "cell_type": "markdown",
      "source": [
        "#**Question 3: How would you handle a case where the file doesn't exist while trying to open it for reading.**\n",
        "\n",
        "You can handle a case where the file doesn't exist while trying to open it for reading by using a try-except block to catch the FileNotFoundError exception. Here's an example:\n"
      ],
      "metadata": {
        "id": "BRCmI7K5Br0Y"
      }
    },
    {
      "cell_type": "code",
      "source": [
        "\n",
        "def read_file(filename):\n",
        "    try:\n",
        "        with open(filename, 'r') as file:\n",
        "            contents = file.read()\n",
        "            return contents\n",
        "    except FileNotFoundError:\n",
        "        print(f\"File '{filename}' not found.\")\n",
        "        return None\n",
        "\n",
        "# Example usage\n",
        "filename = 'example.txt'\n",
        "contents = read_file(filename)\n",
        "if contents is not None:\n",
        "    print(contents)"
      ],
      "metadata": {
        "colab": {
          "base_uri": "https://localhost:8080/"
        },
        "id": "GX7_Otv3CBOE",
        "outputId": "69975ecc-4023-4566-9598-2d019cd45185"
      },
      "execution_count": 4,
      "outputs": [
        {
          "output_type": "stream",
          "name": "stdout",
          "text": [
            "File 'example.txt' not found.\n"
          ]
        }
      ]
    },
    {
      "cell_type": "markdown",
      "source": [
        "#**Question 4: Write a Python script that reads from one file and writes its content to another file.**\n"
      ],
      "metadata": {
        "id": "s1cd_d5eDbyO"
      }
    },
    {
      "cell_type": "code",
      "source": [
        "def copy_file(source_filename, destination_filename):\n",
        "\n",
        "  try:\n",
        "    with open(source_filename, 'r') as source_file:\n",
        "      contents = source_file.read()\n",
        "      with open(destination_filename, 'w') as destination_file:\n",
        "        destination_file.write(contents)\n",
        "        print(f\"Contents from '{source_filename}' copied to '{destination_filename}'.\")\n",
        "  except FileNotFoundError:\n",
        "    print(f\"File '{source_filename}' not found.\")\n",
        "\n",
        "source_filename = 'source.txt'\n",
        "destination_filename = 'destination.txt'\n",
        "copy_file(source_filename, destination_filename)\n",
        "\n",
        "\n"
      ],
      "metadata": {
        "colab": {
          "base_uri": "https://localhost:8080/"
        },
        "id": "2ah21GNMDzfc",
        "outputId": "84d4257e-4066-45c2-8318-0864c5ca5ad6"
      },
      "execution_count": 11,
      "outputs": [
        {
          "output_type": "stream",
          "name": "stdout",
          "text": [
            "File 'source.txt' not found.\n"
          ]
        }
      ]
    },
    {
      "cell_type": "markdown",
      "source": [
        "#**Question 5: How would you catch and handle division by zero error in Python.**\n"
      ],
      "metadata": {
        "id": "nrU9yRubE5s1"
      }
    },
    {
      "cell_type": "code",
      "source": [
        "#Catching and Handling Division by Zero Error\n",
        "\n",
        "'''You can catch and handle division by zero error in Python using a\n",
        "try-except block to catch the ZeroDivisionError exception. Here's an example:'''\n",
        "\n",
        "\n",
        "def divide_numbers(a, b):\n",
        "    try:\n",
        "        result = a / b\n",
        "        return result\n",
        "    except ZeroDivisionError:\n",
        "        print(\"Error: Division by zero is not allowed.\")\n",
        "        return None\n",
        "\n",
        "# Example usage\n",
        "a = 10\n",
        "b = 0\n",
        "result = divide_numbers(a, b)\n",
        "if result is not None:\n",
        "    print(f\"{a} / {b} = {result}\")\n"
      ],
      "metadata": {
        "colab": {
          "base_uri": "https://localhost:8080/"
        },
        "id": "z0R07FbjFg8-",
        "outputId": "ba0f5e83-d461-4bc2-e9a6-bbe5fd473379"
      },
      "execution_count": 12,
      "outputs": [
        {
          "output_type": "stream",
          "name": "stdout",
          "text": [
            "Error: Division by zero is not allowed.\n"
          ]
        }
      ]
    },
    {
      "cell_type": "markdown",
      "source": [
        "#**Question 6: Write a Python program that logs an error message to a log file when a division by zero exception occurs.**\n"
      ],
      "metadata": {
        "id": "-AJXx8SDGB6r"
      }
    },
    {
      "cell_type": "code",
      "source": [
        "import logging\n",
        "\n",
        "# Configure logging\n",
        "logging.basicConfig(filename='error.log', level=logging.ERROR)\n",
        "\n",
        "def divide_numbers(a, b):\n",
        "    try:\n",
        "        result = a / b\n",
        "        return result\n",
        "    except ZeroDivisionError:\n",
        "        logging.error(\"Division by zero error occurred.\")\n",
        "        print(\"Error: Division by zero is not allowed.\")\n",
        "        return None\n",
        "\n",
        "# Example usage\n",
        "a = 10\n",
        "b = 0\n",
        "result = divide_numbers(a, b)\n",
        "if result is not None:\n",
        "    print(f\"{a} / {b} = {result}\")\n"
      ],
      "metadata": {
        "colab": {
          "base_uri": "https://localhost:8080/"
        },
        "id": "erlCME1zGTNh",
        "outputId": "5bf47bc3-0f09-4d2c-e6f0-9336f01b747e"
      },
      "execution_count": 13,
      "outputs": [
        {
          "output_type": "stream",
          "name": "stderr",
          "text": [
            "ERROR:root:Division by zero error occurred.\n"
          ]
        },
        {
          "output_type": "stream",
          "name": "stdout",
          "text": [
            "Error: Division by zero is not allowed.\n"
          ]
        }
      ]
    },
    {
      "cell_type": "markdown",
      "source": [
        "#**Question 7: How do you log information at different levels (INFO, ERROR, WARNING) in Python using the logging module.**\n"
      ],
      "metadata": {
        "id": "MbQLWSB0G_r7"
      }
    },
    {
      "cell_type": "markdown",
      "source": [
        "**Logging Information at Different Levels**\n",
        "You can log information at different levels (INFO, ERROR, WARNING) in Python using the logging module. Here's an example:\n",
        "\n",
        "<pre>\n",
        "import logging\n",
        "\n",
        "# Configure logging\n",
        "logging.basicConfig(level=logging.INFO, format='%(asctime)s - %(levelname)s - %(message)s')\n",
        "\n",
        "def main():\n",
        "    # Log an info message\n",
        "    logging.info(\"This is an info message.\")\n",
        "\n",
        "    # Log a warning message\n",
        "    logging.warning(\"This is a warning message.\")\n",
        "\n",
        "    # Log an error message\n",
        "    logging.error(\"This is an error message.\")\n",
        "\n",
        "    try:\n",
        "        # Simulate an error\n",
        "        x = 1 / 0\n",
        "    except ZeroDivisionError:\n",
        "        # Log an error message with exception information\n",
        "        logging.exception(\"An error occurred.\")\n",
        "\n",
        "if __name__ == \"__main__\":\n",
        "    main()\n",
        "</pre>\n",
        "\n",
        "**Explanation**\n",
        "\n",
        "1. logging.basicConfig() function: The logging.basicConfig() function is used to configure the logging module. In this example, we're setting the logging level to INFO and specifying a format for log messages.\n",
        "2. logging.info(), logging.warning(), logging.error() functions: These functions are used to log messages at different levels.\n",
        "3. logging.exception() function: This function is used to log error messages with exception information.\n",
        "\n",
        "**Logging Levels**  \n",
        "The logging module provides several logging levels:\n",
        "\n",
        "1. `DEBUG`: Detailed information for debugging purposes.\n",
        "2. `INFO`: Informative messages.\n",
        "3. `WARNING`: Potential problems or unexpected events.\n",
        "4. `ERROR`: Errors that prevent normal program execution.\n",
        "5. `CRITICAL`: Critical errors that require immediate att"
      ],
      "metadata": {
        "id": "jxqmGbbKHyR4"
      }
    },
    {
      "cell_type": "markdown",
      "source": [
        "#**Question 8: Write a program to handle a file opening error using exception handling.**\n"
      ],
      "metadata": {
        "id": "_uvlync-I5tD"
      }
    },
    {
      "cell_type": "code",
      "source": [
        "def open_file(filename):\n",
        "    try:\n",
        "        with open(filename, 'r') as file:\n",
        "            contents = file.read()\n",
        "            return contents\n",
        "    except FileNotFoundError:\n",
        "        print(f\"Error: File '{filename}' not found.\")\n",
        "    except PermissionError:\n",
        "        print(f\"Error: Permission denied to access file '{filename}'.\")\n",
        "    except OSError as e:\n",
        "        print(f\"Error: An OS error occurred while opening file '{filename}': {e}\")\n",
        "    except Exception as e:\n",
        "        print(f\"Error: An unexpected error occurred while opening file '{filename}': {e}\")\n",
        "\n",
        "# Example usage\n",
        "filename = 'example.txt'\n",
        "contents = open_file(filename)\n",
        "if contents is not None:\n",
        "    print(contents)\n",
        "\n"
      ],
      "metadata": {
        "colab": {
          "base_uri": "https://localhost:8080/"
        },
        "id": "jXQAKerKJGyG",
        "outputId": "339e4a6c-7a27-4d22-feec-6014c3c5df7f"
      },
      "execution_count": 14,
      "outputs": [
        {
          "output_type": "stream",
          "name": "stdout",
          "text": [
            "Error: File 'example.txt' not found.\n"
          ]
        }
      ]
    },
    {
      "cell_type": "markdown",
      "source": [
        "#**Question 9: How can you read a file line by line and store its content in a list in Python.**\n",
        "\n",
        "\n"
      ],
      "metadata": {
        "id": "kgEZHDURJj_8"
      }
    },
    {
      "cell_type": "code",
      "source": [
        "def read_file_lines(filename):\n",
        "    try:\n",
        "        with open(filename, 'r') as file:\n",
        "            lines = [line.strip() for line in file]\n",
        "        return lines\n",
        "    except FileNotFoundError:\n",
        "        print(f\"File '{filename}' not found.\")\n",
        "        return []\n",
        "\n",
        "# Example usage\n",
        "filename = 'example.txt'\n",
        "lines = read_file_lines(filename)\n",
        "print(lines)"
      ],
      "metadata": {
        "colab": {
          "base_uri": "https://localhost:8080/"
        },
        "id": "Jgn6wKtkJ26v",
        "outputId": "2020f3ba-f56a-4474-f01f-67da9a2d7932"
      },
      "execution_count": 15,
      "outputs": [
        {
          "output_type": "stream",
          "name": "stdout",
          "text": [
            "File 'example.txt' not found.\n",
            "[]\n"
          ]
        }
      ]
    },
    {
      "cell_type": "markdown",
      "source": [
        "#**Question 10: How can you append data to an existing file in Python.**\n"
      ],
      "metadata": {
        "id": "V_RsS1IuJ8-S"
      }
    },
    {
      "cell_type": "code",
      "source": [
        "def append_to_file(filename, data):\n",
        "    try:\n",
        "        with open(filename, 'a') as file:\n",
        "            file.write(data + '\\n')\n",
        "    except Exception as e:\n",
        "        print(f\"An error occurred: {e}\")\n",
        "\n",
        "# Example usage\n",
        "filename = 'example.txt'\n",
        "data = 'This is a new line.'\n",
        "append_to_file(filename, data)\n"
      ],
      "metadata": {
        "id": "WjeTb4AEKErx"
      },
      "execution_count": 18,
      "outputs": []
    },
    {
      "cell_type": "markdown",
      "source": [
        "#**Question 11: Write a Python program that uses a try-except block to handle an error when attempting to access a dictionary key that doesn't exist.**\n",
        ""
      ],
      "metadata": {
        "id": "3tealjURLJRN"
      }
    },
    {
      "cell_type": "code",
      "source": [
        "def access_dictionary_key(dictionary, key):\n",
        "    try:\n",
        "        value = dictionary[key]\n",
        "        return value\n",
        "    except KeyError:\n",
        "        print(f\"Error: Key '{key}' not found in the dictionary.\")\n",
        "        return None\n",
        "\n",
        "# Example usage\n",
        "person = {\n",
        "    'name': 'John Doe',\n",
        "    'age': 30,\n",
        "    'city': 'New York'\n",
        "}\n",
        "\n",
        "key = 'country'\n",
        "value = access_dictionary_key(person, key)\n",
        "if value is not None:\n",
        "    print(f\"The value of '{key}' is: {value}\")\n"
      ],
      "metadata": {
        "colab": {
          "base_uri": "https://localhost:8080/"
        },
        "id": "WRKxeEQTLW3T",
        "outputId": "58f315ad-57ad-41f4-eae5-1b42bbdb5072"
      },
      "execution_count": 19,
      "outputs": [
        {
          "output_type": "stream",
          "name": "stdout",
          "text": [
            "Error: Key 'country' not found in the dictionary.\n"
          ]
        }
      ]
    },
    {
      "cell_type": "markdown",
      "source": [
        "#**Question 12: Write a program that demonstrates using multiple except blocks to handle different types of exceptions.**\n"
      ],
      "metadata": {
        "id": "acjm-BFPLp7Y"
      }
    },
    {
      "cell_type": "code",
      "source": [
        "def divide_numbers(a, b):\n",
        "    try:\n",
        "        result = a / b\n",
        "        return result\n",
        "    except ZeroDivisionError:\n",
        "        print(\"Error: Division by zero is not allowed.\")\n",
        "    except TypeError:\n",
        "        print(\"Error: Invalid data type. Both inputs must be numbers.\")\n",
        "    except Exception as e:\n",
        "        print(f\"An unexpected error occurred: {e}\")\n",
        "\n",
        "# Example usage\n",
        "print(\"Test case 1: Division by zero\")\n",
        "divide_numbers(10, 0)\n",
        "\n",
        "print(\"\\nTest case 2: Invalid data type\")\n",
        "divide_numbers(10, 'a')\n",
        "\n",
        "print(\"\\nTest case 3: Valid division\")\n",
        "result = divide_numbers(10, 2)\n",
        "if result is not None:\n",
        "    print(f\"Result: {result}\")\n",
        "\n",
        "print(\"\\nTest case 4: Unexpected error\")\n",
        "divide_numbers(None, 2)"
      ],
      "metadata": {
        "colab": {
          "base_uri": "https://localhost:8080/"
        },
        "id": "mpj8jPYML4tT",
        "outputId": "2a91fdba-e10e-4dfd-a3d1-f0973fba8cb5"
      },
      "execution_count": 20,
      "outputs": [
        {
          "output_type": "stream",
          "name": "stdout",
          "text": [
            "Test case 1: Division by zero\n",
            "Error: Division by zero is not allowed.\n",
            "\n",
            "Test case 2: Invalid data type\n",
            "Error: Invalid data type. Both inputs must be numbers.\n",
            "\n",
            "Test case 3: Valid division\n",
            "Result: 5.0\n",
            "\n",
            "Test case 4: Unexpected error\n",
            "Error: Invalid data type. Both inputs must be numbers.\n"
          ]
        }
      ]
    },
    {
      "cell_type": "markdown",
      "source": [
        "#**Question 13: How would you check if a file exists before attempting to read it in Python.**\n"
      ],
      "metadata": {
        "id": "QDSP57hHMQTg"
      }
    },
    {
      "cell_type": "code",
      "source": [
        "import os\n",
        "\n",
        "def check_file_exists(filename):\n",
        "    if os.path.exists(filename):\n",
        "        print(f\"File '{filename}' exists.\")\n",
        "        return True\n",
        "    else:\n",
        "        print(f\"File '{filename}' does not exist.\")\n",
        "        return False\n",
        "\n",
        "# Example usage\n",
        "filename = 'example.txt'\n",
        "if check_file_exists(filename):\n",
        "    with open(filename, 'r') as file:\n",
        "        contents = file.read()\n",
        "        print(contents)"
      ],
      "metadata": {
        "colab": {
          "base_uri": "https://localhost:8080/"
        },
        "id": "Vc6FB890MxLK",
        "outputId": "3cf6635a-8932-4f9a-d7a3-87fb891f3dc7"
      },
      "execution_count": 21,
      "outputs": [
        {
          "output_type": "stream",
          "name": "stdout",
          "text": [
            "File 'example.txt' exists.\n",
            "This is a new line.\n",
            "This is a new line.\n",
            "\n"
          ]
        }
      ]
    },
    {
      "cell_type": "markdown",
      "source": [
        "#**Question 14: Write a program that uses the logging module to log both informational and error messages.**\n"
      ],
      "metadata": {
        "id": "Ehk5IyoWM7Ly"
      }
    },
    {
      "cell_type": "code",
      "source": [
        "import logging\n",
        "\n",
        "# Configure logging\n",
        "logging.basicConfig(level=logging.INFO, format='%(asctime)s - %(levelname)s - %(message)s')\n",
        "\n",
        "def divide_numbers(a, b):\n",
        "    try:\n",
        "        result = a / b\n",
        "        logging.info(f\"Division operation successful. Result: {result}\")\n",
        "        return result\n",
        "    except ZeroDivisionError:\n",
        "        logging.error(\"Error: Division by zero is not allowed.\")\n",
        "    except Exception as e:\n",
        "        logging.error(f\"An unexpected error occurred: {e}\")\n",
        "\n",
        "# Example usage\n",
        "logging.info(\"Program started.\")\n",
        "\n",
        "result = divide_numbers(10, 2)\n",
        "if result is not None:\n",
        "    logging.info(f\"Result: {result}\")\n",
        "\n",
        "divide_numbers(10, 0)\n",
        "\n",
        "logging.info(\"Program finished.\")"
      ],
      "metadata": {
        "colab": {
          "base_uri": "https://localhost:8080/"
        },
        "id": "KqiSLhJBNQLo",
        "outputId": "0144047f-050e-4a77-fd53-a429ce6560d5"
      },
      "execution_count": 22,
      "outputs": [
        {
          "output_type": "stream",
          "name": "stderr",
          "text": [
            "ERROR:root:Error: Division by zero is not allowed.\n"
          ]
        }
      ]
    },
    {
      "cell_type": "markdown",
      "source": [
        "#**Question 15: Write a Python program that prints the content of a file and handles the case when the file is empty.**\n"
      ],
      "metadata": {
        "id": "3W_IYjPRN4_Q"
      }
    },
    {
      "cell_type": "code",
      "source": [
        "def print_file_content(filename):\n",
        "    try:\n",
        "        with open(filename, 'r') as file:\n",
        "            content = file.read()\n",
        "            if content:\n",
        "                print(f\"Content of '{filename}':\")\n",
        "                print(content)\n",
        "            else:\n",
        "                print(f\"File '{filename}' is empty.\")\n",
        "    except FileNotFoundError:\n",
        "        print(f\"File '{filename}' not found.\")\n",
        "\n",
        "# Example usage\n",
        "filename = 'example.txt'\n",
        "print_file_content(filename)"
      ],
      "metadata": {
        "colab": {
          "base_uri": "https://localhost:8080/"
        },
        "id": "JQSoDDOAOBVV",
        "outputId": "b72adfad-6894-4cdb-e8df-56c4744ba488"
      },
      "execution_count": 23,
      "outputs": [
        {
          "output_type": "stream",
          "name": "stdout",
          "text": [
            "Content of 'example.txt':\n",
            "This is a new line.\n",
            "This is a new line.\n",
            "\n"
          ]
        }
      ]
    },
    {
      "cell_type": "markdown",
      "source": [
        "#**Question 16: Demonstrate how to use memory profiling to check the memory usage of a small program.**\n"
      ],
      "metadata": {
        "id": "vzjhYmPLO8Gv"
      }
    },
    {
      "cell_type": "code",
      "source": [
        "\n",
        "from memory_profiler import profile\n",
        "\n",
        "@profile\n",
        "def calculate_sum():\n",
        "    large_list = [i for i in range(1000000)]\n",
        "    sum_of_list = sum(large_list)\n",
        "    return sum_of_list\n",
        "\n",
        "if __name__ == \"__main__\":\n",
        "    calculate_sum()\n"
      ],
      "metadata": {
        "colab": {
          "base_uri": "https://localhost:8080/"
        },
        "id": "lGo7_p2FSCq1",
        "outputId": "02f9e4de-3f6b-4b52-da2c-bdfdcf3aad24"
      },
      "execution_count": 27,
      "outputs": [
        {
          "output_type": "stream",
          "name": "stdout",
          "text": [
            "ERROR: Could not find file /tmp/ipython-input-1633719699.py\n"
          ]
        }
      ]
    },
    {
      "cell_type": "markdown",
      "source": [
        "#**Question 17: Write a Python program to create and write a list of numbers to a file, one number per line.**\n"
      ],
      "metadata": {
        "id": "AzeIv6woSpZP"
      }
    },
    {
      "cell_type": "code",
      "source": [
        "def write_numbers_to_file(filename, numbers):\n",
        "    try:\n",
        "        with open(filename, 'w') as file:\n",
        "            for number in numbers:\n",
        "                file.write(str(number) + '\\n')\n",
        "        print(f\"Numbers written to '{filename}' successfully.\")\n",
        "    except Exception as e:\n",
        "        print(f\"An error occurred: {e}\")\n",
        "\n",
        "# Example usage\n",
        "numbers = [i for i in range(1, 11)]  # Generate a list of numbers from 1 to 10\n",
        "filename = 'numbers.txt'\n",
        "write_numbers_to_file(filename, numbers)\n"
      ],
      "metadata": {
        "colab": {
          "base_uri": "https://localhost:8080/"
        },
        "id": "JyiY4y0pSvrc",
        "outputId": "bbdcbc6c-3c2d-44d8-8ddb-eacefe90431b"
      },
      "execution_count": 28,
      "outputs": [
        {
          "output_type": "stream",
          "name": "stdout",
          "text": [
            "Numbers written to 'numbers.txt' successfully.\n"
          ]
        }
      ]
    },
    {
      "cell_type": "markdown",
      "source": [
        "#**Question 18: How would you implement a basic logging setup that logs to a file with rotation after 1MB.**\n"
      ],
      "metadata": {
        "id": "bxL5I1XPTCFG"
      }
    },
    {
      "cell_type": "code",
      "source": [
        "import logging\n",
        "from logging.handlers import RotatingFileHandler\n",
        "\n",
        "# Create a logger\n",
        "logger = logging.getLogger(__name__)\n",
        "logger.setLevel(logging.INFO)\n",
        "\n",
        "# Create a rotating file handler\n",
        "handler = RotatingFileHandler('app.log', maxBytes=1024*1024, backupCount=5)\n",
        "handler.setLevel(logging.INFO)\n",
        "\n",
        "# Create a formatter and attach it to the handler\n",
        "formatter = logging.Formatter('%(asctime)s - %(name)s - %(levelname)s - %(message)s')\n",
        "handler.setFormatter(formatter)\n",
        "\n",
        "# Add the handler to the logger\n",
        "logger.addHandler(handler)\n",
        "\n",
        "# Example usage\n",
        "logger.info('This is an info message.')\n",
        "logger.warning('This is a warning message.')\n",
        "logger.error('This is an error message.')\n"
      ],
      "metadata": {
        "colab": {
          "base_uri": "https://localhost:8080/"
        },
        "id": "USo1cPC3TWF2",
        "outputId": "f5ad2ae4-c8f5-4673-9be1-d0eb2da60ef0"
      },
      "execution_count": 29,
      "outputs": [
        {
          "output_type": "stream",
          "name": "stderr",
          "text": [
            "INFO:__main__:This is an info message.\n",
            "WARNING:__main__:This is a warning message.\n",
            "ERROR:__main__:This is an error message.\n"
          ]
        }
      ]
    },
    {
      "cell_type": "markdown",
      "source": [
        "#**Question 19: Write a program that handles both IndexError and KeyError using a try-except block.**\n"
      ],
      "metadata": {
        "id": "P7KVmgCsThzI"
      }
    },
    {
      "cell_type": "code",
      "source": [
        "def access_list_element(my_list, index):\n",
        "    try:\n",
        "        return my_list[index]\n",
        "    except IndexError:\n",
        "        print(f\"Error: Index {index} out of range for the list.\")\n",
        "        return None\n",
        "\n",
        "def access_dict_key(my_dict, key):\n",
        "    try:\n",
        "        return my_dict[key]\n",
        "    except KeyError:\n",
        "        print(f\"Error: Key '{key}' not found in the dictionary.\")\n",
        "        return None\n",
        "\n",
        "# Example usage\n",
        "my_list = [1, 2, 3]\n",
        "index = 5\n",
        "element = access_list_element(my_list, index)\n",
        "if element is not None:\n",
        "    print(f\"Element at index {index}: {element}\")\n",
        "\n",
        "my_dict = {'a': 1, 'b': 2}\n",
        "key = 'c'\n",
        "value = access_dict_key(my_dict, key)\n",
        "if value is not None:\n",
        "    print(f\"Value for key '{key}': {value}\")\n",
        "\n"
      ],
      "metadata": {
        "colab": {
          "base_uri": "https://localhost:8080/"
        },
        "id": "9rmdHwUSTq2u",
        "outputId": "cd06f19a-1f41-4361-fac0-7130e75bce2c"
      },
      "execution_count": 30,
      "outputs": [
        {
          "output_type": "stream",
          "name": "stdout",
          "text": [
            "Error: Index 5 out of range for the list.\n",
            "Error: Key 'c' not found in the dictionary.\n"
          ]
        }
      ]
    },
    {
      "cell_type": "markdown",
      "source": [
        "#**Question 20: How would you open a file and read its contents using a context manager in Python.**\n"
      ],
      "metadata": {
        "id": "w_RRpT1yUBrp"
      }
    },
    {
      "cell_type": "code",
      "source": [
        "def read_file(filename):\n",
        "    try:\n",
        "        with open(filename, 'r') as file:\n",
        "            contents = file.read()\n",
        "            return contents\n",
        "    except FileNotFoundError:\n",
        "        print(f\"File '{filename}' not found.\")\n",
        "        return None\n",
        "    except Exception as e:\n",
        "        print(f\"An error occurred: {e}\")\n",
        "        return None\n",
        "\n",
        "# Example usage\n",
        "filename = 'example.txt'\n",
        "contents = read_file(filename)\n",
        "if contents is not None:\n",
        "    print(contents)\n",
        "\n",
        "\n",
        ""
      ],
      "metadata": {
        "colab": {
          "base_uri": "https://localhost:8080/"
        },
        "id": "rQFkxfWfUukC",
        "outputId": "a3ee67ca-1aac-4d57-de21-743f50a50c83"
      },
      "execution_count": 40,
      "outputs": [
        {
          "output_type": "stream",
          "name": "stdout",
          "text": [
            "This is a new line.\n",
            "This is a new line.\n",
            "\n"
          ]
        }
      ]
    },
    {
      "cell_type": "markdown",
      "source": [
        "#**Question 21: Write a Python program that reads a file and prints the number of occurrences of a specific word.**\n"
      ],
      "metadata": {
        "id": "kc7HomdcUw0B"
      }
    },
    {
      "cell_type": "code",
      "source": [
        "def count_word_occurrences(filename, word):\n",
        "    try:\n",
        "        with open(filename, 'r') as file:\n",
        "            contents = file.read().lower()\n",
        "            word_count = contents.count(word.lower())\n",
        "            return word_count\n",
        "    except FileNotFoundError:\n",
        "        print(f\"File '{filename}' not found.\")\n",
        "        return None\n",
        "    except Exception as e:\n",
        "        print(f\"An error occurred: {e}\")\n",
        "        return None\n",
        "\n",
        "# Example usage\n",
        "filename = 'example.txt'\n",
        "word = 'python'\n",
        "word_count = count_word_occurrences(filename, word)\n",
        "if word_count is not None:\n",
        "    print(f\"The word '{word}' appears {word_count} times in the file.\")"
      ],
      "metadata": {
        "colab": {
          "base_uri": "https://localhost:8080/"
        },
        "id": "AQo153p_VFwK",
        "outputId": "0e82366e-e6f0-41a5-8445-ca6e9758050a"
      },
      "execution_count": 32,
      "outputs": [
        {
          "output_type": "stream",
          "name": "stdout",
          "text": [
            "The word 'python' appears 0 times in the file.\n"
          ]
        }
      ]
    },
    {
      "cell_type": "markdown",
      "source": [
        "#**Question 22: How can you check if a file is empty before attempting to read its contents?**\n"
      ],
      "metadata": {
        "id": "YKNKyNiyVUqQ"
      }
    },
    {
      "cell_type": "code",
      "source": [
        "import os\n",
        "\n",
        "def is_file_empty(filepath):\n",
        "    \"\"\"Checks if a file is empty.\"\"\"\n",
        "    try:\n",
        "        # Get the size of the file in bytes\n",
        "        file_size = os.path.getsize(filepath)\n",
        "        return file_size == 0\n",
        "    except FileNotFoundError:\n",
        "        print(f\"Error: File '{filepath}' not found.\")\n",
        "        return False\n",
        "    except Exception as e:\n",
        "        print(f\"An error occurred while checking file size: {e}\")\n",
        "        return False\n",
        "\n",
        "# Example usage:\n",
        "# Create a dummy file for demonstration\n",
        "with open(\"test_file.txt\", \"w\") as f:\n",
        "    f.write(\"This is some content.\")\n",
        "\n",
        "filename1 = 'test_file.txt'\n",
        "\n",
        "print(f\"Checking if '{filename1}' is empty:\")\n",
        "if is_file_empty(filename1):\n",
        "    print(f\"'{filename1}' is empty.\")\n",
        "else:\n",
        "    print(f\"'{filename1}' is not empty. Reading contents:\")\n",
        "    try:\n",
        "        with open(filename1, 'r') as f:\n",
        "            print(f.read())\n",
        "    except FileNotFoundError:\n",
        "        pass # Already handled in is_file_empty\n",
        "\n"
      ],
      "metadata": {
        "colab": {
          "base_uri": "https://localhost:8080/"
        },
        "id": "VmugYeoYVfkr",
        "outputId": "05a52434-c0dd-43dd-a5d8-4a4d32956c4f"
      },
      "execution_count": 37,
      "outputs": [
        {
          "output_type": "stream",
          "name": "stdout",
          "text": [
            "Checking if 'test_file.txt' is empty:\n",
            "'test_file.txt' is not empty. Reading contents:\n",
            "This is some content.\n"
          ]
        }
      ]
    },
    {
      "cell_type": "markdown",
      "source": [
        "#**Question 23: Write a Python program that writes to a log file when an error occurs during file handling.**\n"
      ],
      "metadata": {
        "id": "XiZ2hkc_V6pj"
      }
    },
    {
      "cell_type": "code",
      "source": [
        "import logging\n",
        "\n",
        "# Configure logging to write to a file\n",
        "logging.basicConfig(filename='file_errors.log', level=logging.ERROR,\n",
        "                    format='%(asctime)s - %(levelname)s - %(message)s')\n",
        "\n",
        "def read_file_with_error_logging(filename):\n",
        "    \"\"\"Reads a file and logs an error if a FileNotFoundError occurs.\"\"\"\n",
        "    try:\n",
        "        with open(filename, 'r') as file:\n",
        "            contents = file.read()\n",
        "            print(\"File read successfully.\")\n",
        "            return contents\n",
        "    except FileNotFoundError:\n",
        "        error_message = f\"Error: File '{filename}' not found.\"\n",
        "        logging.error(error_message)\n",
        "        print(error_message)\n",
        "        return None\n",
        "    except Exception as e:\n",
        "        error_message = f\"An unexpected error occurred while reading file '{filename}': {e}\"\n",
        "        logging.error(error_message)\n",
        "        print(error_message)\n",
        "        return None\n",
        "\n",
        "# Example usage (this will cause a FileNotFoundError)\n",
        "filename_to_read = 'non_existent_file.txt'\n",
        "file_content = read_file_with_error_logging(filename_to_read)\n",
        "\n",
        "# You can check the 'file_errors.log' file for the logged error message."
      ],
      "metadata": {
        "colab": {
          "base_uri": "https://localhost:8080/"
        },
        "id": "DX2y7vFUWckS",
        "outputId": "dc05a783-d8a0-4cdf-9add-08a3b8f210f6"
      },
      "execution_count": 35,
      "outputs": [
        {
          "output_type": "stream",
          "name": "stderr",
          "text": [
            "ERROR:root:Error: File 'non_existent_file.txt' not found.\n"
          ]
        },
        {
          "output_type": "stream",
          "name": "stdout",
          "text": [
            "Error: File 'non_existent_file.txt' not found.\n"
          ]
        }
      ]
    }
  ]
}